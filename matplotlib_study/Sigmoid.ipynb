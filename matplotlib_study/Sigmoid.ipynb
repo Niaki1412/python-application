{
 "cells": [
  {
   "cell_type": "code",
   "execution_count": 1,
   "metadata": {
    "collapsed": true
   },
   "outputs": [],
   "source": [
    "import numpy as np\n",
    "from matplotlib import pyplot as plt\n",
    "import math\n"
   ]
  },
  {
   "cell_type": "code",
   "execution_count": 2,
   "metadata": {},
   "outputs": [],
   "source": [
    "def sigmoid(t):\n",
    "    return 1 / (1 + np.exp(-t))"
   ]
  },
  {
   "cell_type": "code",
   "execution_count": 3,
   "metadata": {},
   "outputs": [],
   "source": [
    "x = np.linspace(-10, 10, 500)\n",
    "y = sigmoid(x)\n",
    "plt.plot(x, y)\n",
    "plt.show()\n"
   ]
  },
  {
   "cell_type": "code",
   "execution_count": 30,
   "metadata": {},
   "outputs": [],
   "source": [
    "def pow3(x):\n",
    "    return math.sqrt(x)\n"
   ]
  },
  {
   "cell_type": "code",
   "execution_count": 9,
   "metadata": {},
   "outputs": [],
   "source": [
    "def cosx(t):\n",
    "    return np.sin(t)\n",
    "\n",
    "def sinx(t):\n",
    "    return np.cos(t)\n",
    "\n",
    "x = np.linspace(-1, 1, 100)\n",
    "y = cosx(x)\n",
    "y2 = sinx(x)\n",
    "y3 = 2*x+1\n",
    "plt.plot(x, y)\n",
    "plt.plot(x, y2)\n",
    "\n",
    "plt.plot(x, y3)\n",
    "plt.show()\n"
   ]
  },
  {
   "cell_type": "code",
   "execution_count": 66,
   "metadata": {},
   "outputs": [
    {
     "data": {
      "text/plain": [
       "array([-100.        ,  -97.97979798,  -95.95959596,  -93.93939394,\n        -91.91919192,  -89.8989899 ,  -87.87878788,  -85.85858586,\n        -83.83838384,  -81.81818182,  -79.7979798 ,  -77.77777778,\n        -75.75757576,  -73.73737374,  -71.71717172,  -69.6969697 ,\n        -67.67676768,  -65.65656566,  -63.63636364,  -61.61616162,\n        -59.5959596 ,  -57.57575758,  -55.55555556,  -53.53535354,\n        -51.51515152,  -49.49494949,  -47.47474747,  -45.45454545,\n        -43.43434343,  -41.41414141,  -39.39393939,  -37.37373737,\n        -35.35353535,  -33.33333333,  -31.31313131,  -29.29292929,\n        -27.27272727,  -25.25252525,  -23.23232323,  -21.21212121,\n        -19.19191919,  -17.17171717,  -15.15151515,  -13.13131313,\n        -11.11111111,   -9.09090909,   -7.07070707,   -5.05050505,\n         -3.03030303,   -1.01010101,    1.01010101,    3.03030303,\n          5.05050505,    7.07070707,    9.09090909,   11.11111111,\n         13.13131313,   15.15151515,   17.17171717,   19.19191919,\n         21.21212121,   23.23232323,   25.25252525,   27.27272727,\n         29.29292929,   31.31313131,   33.33333333,   35.35353535,\n         37.37373737,   39.39393939,   41.41414141,   43.43434343,\n         45.45454545,   47.47474747,   49.49494949,   51.51515152,\n         53.53535354,   55.55555556,   57.57575758,   59.5959596 ,\n         61.61616162,   63.63636364,   65.65656566,   67.67676768,\n         69.6969697 ,   71.71717172,   73.73737374,   75.75757576,\n         77.77777778,   79.7979798 ,   81.81818182,   83.83838384,\n         85.85858586,   87.87878788,   89.8989899 ,   91.91919192,\n         93.93939394,   95.95959596,   97.97979798,  100.        ])"
      ]
     },
     "execution_count": 66,
     "metadata": {},
     "output_type": "execute_result"
    }
   ],
   "source": [
    "x = np.linspace(-100, 100, 100)\n",
    "\n",
    "y = cosx(x)\n",
    "# plt.plot(x, y)\n",
    "# plt.show()\n"
   ]
  },
  {
   "cell_type": "code",
   "execution_count": null,
   "metadata": {},
   "outputs": [],
   "source": []
  }
 ],
 "metadata": {
  "kernelspec": {
   "display_name": "Python 2",
   "language": "python",
   "name": "python2"
  },
  "language_info": {
   "codemirror_mode": {
    "name": "ipython",
    "version": 2
   },
   "file_extension": ".py",
   "mimetype": "text/x-python",
   "name": "python",
   "nbconvert_exporter": "python",
   "pygments_lexer": "ipython2",
   "version": "2.7.6"
  }
 },
 "nbformat": 4,
 "nbformat_minor": 0
}
